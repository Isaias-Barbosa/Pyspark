{
  "nbformat": 4,
  "nbformat_minor": 0,
  "metadata": {
    "colab": {
      "provenance": [],
      "authorship_tag": "ABX9TyNTtcQuKkVranzFM0RBlG1y",
      "include_colab_link": true
    },
    "kernelspec": {
      "name": "python3",
      "display_name": "Python 3"
    },
    "language_info": {
      "name": "python"
    }
  },
  "cells": [
    {
      "cell_type": "markdown",
      "metadata": {
        "id": "view-in-github",
        "colab_type": "text"
      },
      "source": [
        "<a href=\"https://colab.research.google.com/github/Isaias-Barbosa/Pyspark/blob/main/Pyspark.ipynb\" target=\"_parent\"><img src=\"https://colab.research.google.com/assets/colab-badge.svg\" alt=\"Open In Colab\"/></a>"
      ]
    },
    {
      "cell_type": "code",
      "execution_count": null,
      "metadata": {
        "id": "Ru7MlDk0IRmp"
      },
      "outputs": [],
      "source": [
        "#INSTALANDO AS DEPENDÊNCIAS DO PYSPARK\n",
        "\n",
        "!apt-get install openjdk-8-jdk-headless -qq > /dev/null #INSTALANDO O JAVA 8\n",
        "!wget -q https://archive.apache.org/dist/spark/spark-2.4.4/spark-2.4.4-bin-hadoop2.7.tgz #INSTALANDO O APACHE SPARK\n",
        "!tar xf spark-2.4.4-bin-hadoop2.7.tgz # Descompactando os arquivos\n",
        "!pip install -q findspark #INSALANDO O PYSPARK\n"
      ]
    },
    {
      "cell_type": "code",
      "source": [
        "#IMPORTANDO O MATPLOTLIB PARA USO DE GRÁFICOS\n",
        "import numpy as np # Importando o Numpy\n",
        "import matplotlib.pyplot as plt #importando o matplotlib\n",
        "import seaborn as sns #IMPORTANDO O SEABORN\n",
        "import pandas as pd #IMPORTANDO O PANDAS\n"
      ],
      "metadata": {
        "id": "ezgCQ7DjQAYo"
      },
      "execution_count": null,
      "outputs": []
    },
    {
      "cell_type": "code",
      "source": [
        "# Importando a biblioteca os\n",
        "import os\n",
        "\n",
        "# Definindo a variável de ambiente do Java\n",
        "os.environ[\"JAVA_HOME\"] = \"/usr/lib/jvm/java-8-openjdk-amd64\"\n",
        "\n",
        "# Definindo a variável de ambiente do Spark\n",
        "os.environ[\"SPARK_HOME\"] = \"/content/spark-2.4.4-bin-hadoop2.7\"\n"
      ],
      "metadata": {
        "id": "o1LJRDjLMYwR"
      },
      "execution_count": null,
      "outputs": []
    },
    {
      "cell_type": "code",
      "source": [
        "#importando o pyspark\n",
        "import findspark\n",
        "findspark.init('spark-2.4.4-bin-hadoop2.7')"
      ],
      "metadata": {
        "id": "ZzN0C8KsMhOW"
      },
      "execution_count": null,
      "outputs": []
    },
    {
      "cell_type": "code",
      "source": [
        "# instalando a findspark\n",
        "!pip install -q findspark"
      ],
      "metadata": {
        "id": "7GxoeS5OM6fD"
      },
      "execution_count": null,
      "outputs": []
    },
    {
      "cell_type": "code",
      "source": [
        "# importando o pacote necessário para iniciar uma seção Spark\n",
        "from pyspark.sql import SparkSession\n",
        "from pyspark.sql.functions import col\n",
        "\n",
        "\n",
        "# iniciando o spark context\n",
        "park = SparkSession.builder.master('local[*]').getOrCreate()\n",
        "spark = SparkSession.builder.appName(\"Introducao\").getOrCreate()\n",
        "\n",
        "\n",
        "park.createDataFrame\n",
        "# Verificando se a sessão foi criada\n",
        "park\n"
      ],
      "metadata": {
        "colab": {
          "base_uri": "https://localhost:8080/",
          "height": 219
        },
        "id": "sEmw3URDNBFn",
        "outputId": "82b6ea46-d87b-4704-9ecc-2120beb203b5"
      },
      "execution_count": null,
      "outputs": [
        {
          "output_type": "execute_result",
          "data": {
            "text/plain": [
              "<pyspark.sql.session.SparkSession at 0x7f82be7936d0>"
            ],
            "text/html": [
              "\n",
              "            <div>\n",
              "                <p><b>SparkSession - in-memory</b></p>\n",
              "                \n",
              "        <div>\n",
              "            <p><b>SparkContext</b></p>\n",
              "\n",
              "            <p><a href=\"http://86ada0640321:4040\">Spark UI</a></p>\n",
              "\n",
              "            <dl>\n",
              "              <dt>Version</dt>\n",
              "                <dd><code>v2.4.4</code></dd>\n",
              "              <dt>Master</dt>\n",
              "                <dd><code>local[*]</code></dd>\n",
              "              <dt>AppName</dt>\n",
              "                <dd><code>pyspark-shell</code></dd>\n",
              "            </dl>\n",
              "        </div>\n",
              "        \n",
              "            </div>\n",
              "        "
            ]
          },
          "metadata": {},
          "execution_count": 239
        }
      ]
    },
    {
      "cell_type": "code",
      "source": [
        "# Fazendo download do arquivo csv\n",
        "!wget --verbose --show-progress --no-check-certificate https://raw.githubusercontent.com/jonates/opendata/master/aluguel/aluguel.csv"
      ],
      "metadata": {
        "id": "eyXW0wD8NQyN"
      },
      "execution_count": null,
      "outputs": []
    },
    {
      "cell_type": "code",
      "source": [
        "# carregando um conjunto de dados que baixamos do git\n",
        "aluguel = park.read.csv(\n",
        "    path = \"/content/aluguel.csv\", \n",
        "    inferSchema = True, \n",
        "    sep = ';', \n",
        "    header = True,\n",
        "    encoding = \"UTF-8\")"
      ],
      "metadata": {
        "id": "ofykfsh6NdZb"
      },
      "execution_count": null,
      "outputs": []
    },
    {
      "cell_type": "code",
      "source": [
        "# Verificando o tipo de objeto criado\n",
        "type(aluguel)"
      ],
      "metadata": {
        "colab": {
          "base_uri": "https://localhost:8080/"
        },
        "id": "ual8qr9op3-9",
        "outputId": "ff88fab0-69d0-4858-8efa-bd60a67ce9b9"
      },
      "execution_count": null,
      "outputs": [
        {
          "output_type": "execute_result",
          "data": {
            "text/plain": [
              "pyspark.sql.dataframe.DataFrame"
            ]
          },
          "metadata": {},
          "execution_count": 190
        }
      ]
    },
    {
      "cell_type": "code",
      "source": [
        "# Execudando o dataset no PYSPARK\n",
        "aluguel.show()"
      ],
      "metadata": {
        "colab": {
          "base_uri": "https://localhost:8080/"
        },
        "id": "g8jkCZwdOqJR",
        "outputId": "9d6d0338-a349-4280-b49b-2a605b17b6af"
      },
      "execution_count": null,
      "outputs": [
        {
          "output_type": "stream",
          "name": "stdout",
          "text": [
            "+--------------+----+-------+---------+-------------+-----+-------------+----------+----------------+-------------+----------+------------+-----------+\n",
            "|        cidade|area|quartos|banheiros|vagas_garagem|andar|aceita_animal|mobiliaria|valor_condominio|valor_aluguel|valor_iptu|valor_seguro|valor_total|\n",
            "+--------------+----+-------+---------+-------------+-----+-------------+----------+----------------+-------------+----------+------------+-----------+\n",
            "|     São Paulo|  70|      2|        1|            1|    7|            1|         1|            2065|         3300|       211|          42|       5618|\n",
            "|     São Paulo| 320|      4|        4|            0|   20|            1|         0|            1200|         4960|      1750|          63|       7973|\n",
            "|  Porto Alegre|  80|      1|        1|            1|    6|            1|         0|            1000|         2800|         0|          41|       3841|\n",
            "|  Porto Alegre|  51|      2|        1|            0|    2|            1|         0|             270|         1112|        22|          17|       1421|\n",
            "|     São Paulo|  25|      1|        1|            0|    1|            0|         0|               0|          800|        25|          11|        836|\n",
            "|     São Paulo| 376|      3|        3|            7|    0|            1|         0|               0|         8000|       834|         121|       8955|\n",
            "|Rio de Janeiro|  72|      2|        1|            0|    7|            1|         0|             740|         1900|        85|          25|       2750|\n",
            "|     São Paulo| 213|      4|        4|            4|    4|            1|         0|            2254|         3223|      1735|          41|       7253|\n",
            "|     São Paulo| 152|      2|        2|            1|    3|            1|         1|            1000|        15000|       250|         191|      16440|\n",
            "|Rio de Janeiro|  35|      1|        1|            0|    2|            1|         1|             590|         2300|        35|          30|       2955|\n",
            "|     São Paulo|  26|      1|        1|            0|    2|            1|         1|             470|         2100|       150|          27|       2747|\n",
            "|      Campinas|  46|      1|        1|            1|   10|            1|         0|             550|          580|        43|           8|       1181|\n",
            "|     São Paulo|  36|      1|        1|            0|   11|            1|         0|             359|         2100|        70|          27|       2556|\n",
            "|     São Paulo|  55|      1|        1|            1|    2|            1|         1|             790|         4200|       224|          54|       5268|\n",
            "|     São Paulo| 100|      2|        2|            2|   24|            1|         1|             900|         4370|        17|          56|       5343|\n",
            "|      Campinas| 330|      4|        6|            6|    0|            1|         1|             680|         8000|       328|         121|       9129|\n",
            "|     São Paulo| 110|      2|        2|            1|    1|            1|         0|             700|         3000|       122|          39|       3861|\n",
            "|Rio de Janeiro|  88|      2|        3|            1|    9|            0|         1|            1614|         3500|       221|          16|       5351|\n",
            "|Rio de Janeiro|  56|      2|        1|            0|    8|            1|         0|             800|         1220|         0|          16|       2036|\n",
            "|     São Paulo| 600|      4|        5|            6|    0|            1|         0|               0|        12000|      9500|         181|      21680|\n",
            "+--------------+----+-------+---------+-------------+-----+-------------+----------+----------------+-------------+----------+------------+-----------+\n",
            "only showing top 20 rows\n",
            "\n"
          ]
        }
      ]
    },
    {
      "cell_type": "code",
      "source": [
        "# verifica o schema da tabela\n",
        "aluguel.printSchema()"
      ],
      "metadata": {
        "colab": {
          "base_uri": "https://localhost:8080/"
        },
        "id": "EwfwqE1_qA1c",
        "outputId": "b22bc4d5-0b29-47b9-a263-ad9b1de7c724"
      },
      "execution_count": null,
      "outputs": [
        {
          "output_type": "stream",
          "name": "stdout",
          "text": [
            "root\n",
            " |-- cidade: string (nullable = true)\n",
            " |-- area: integer (nullable = true)\n",
            " |-- quartos: integer (nullable = true)\n",
            " |-- banheiros: integer (nullable = true)\n",
            " |-- vagas_garagem: integer (nullable = true)\n",
            " |-- andar: integer (nullable = true)\n",
            " |-- aceita_animal: integer (nullable = true)\n",
            " |-- mobiliaria: integer (nullable = true)\n",
            " |-- valor_condominio: integer (nullable = true)\n",
            " |-- valor_aluguel: integer (nullable = true)\n",
            " |-- valor_iptu: integer (nullable = true)\n",
            " |-- valor_seguro: integer (nullable = true)\n",
            " |-- valor_total: integer (nullable = true)\n",
            "\n"
          ]
        }
      ]
    },
    {
      "cell_type": "code",
      "source": [
        "#SELECIONANDO 3 OBJETOS PARA VISUALIZAÇÃO \n",
        "aluguel.select(\"cidade\", \"quartos\", \"valor_seguro\").show(10)"
      ],
      "metadata": {
        "colab": {
          "base_uri": "https://localhost:8080/"
        },
        "id": "ECTyusuj4srJ",
        "outputId": "3d27ff7f-2eac-46f3-b6be-7e92008dc4ff"
      },
      "execution_count": null,
      "outputs": [
        {
          "output_type": "stream",
          "name": "stdout",
          "text": [
            "+--------------+-------+------------+\n",
            "|        cidade|quartos|valor_seguro|\n",
            "+--------------+-------+------------+\n",
            "|     São Paulo|      2|          42|\n",
            "|     São Paulo|      4|          63|\n",
            "|  Porto Alegre|      1|          41|\n",
            "|  Porto Alegre|      2|          17|\n",
            "|     São Paulo|      1|          11|\n",
            "|     São Paulo|      3|         121|\n",
            "|Rio de Janeiro|      2|          25|\n",
            "|     São Paulo|      4|          41|\n",
            "|     São Paulo|      2|         191|\n",
            "|Rio de Janeiro|      1|          30|\n",
            "+--------------+-------+------------+\n",
            "only showing top 10 rows\n",
            "\n"
          ]
        }
      ]
    },
    {
      "cell_type": "code",
      "source": [
        "# Verificando o total do Valor do Aluguel por Cidade arrecadado.\n",
        "aluguel.groupBy('cidade').sum('valor_aluguel').orderBy('cidade').show()"
      ],
      "metadata": {
        "colab": {
          "base_uri": "https://localhost:8080/"
        },
        "id": "5fmpH3loe1uq",
        "outputId": "b27df364-2611-4ec5-a796-ad4fa8d86dc4"
      },
      "execution_count": null,
      "outputs": [
        {
          "output_type": "stream",
          "name": "stdout",
          "text": [
            "+--------------+------------------+\n",
            "|        cidade|sum(valor_aluguel)|\n",
            "+--------------+------------------+\n",
            "|Belo Horizonte|           4603893|\n",
            "|      Campinas|           2016740|\n",
            "|  Porto Alegre|           2788876|\n",
            "|Rio de Janeiro|           4848089|\n",
            "|     São Paulo|          27311497|\n",
            "+--------------+------------------+\n",
            "\n"
          ]
        }
      ]
    },
    {
      "cell_type": "code",
      "source": [
        "#FILTRANDO DADOS \n",
        "aluguel_filtered = aluguel.filter(\"valor_condominio > 2000 AND valor_iptu > 500 AND cidade IS NOT NULL\")\n",
        "aluguel_filtered.select(\"cidade\", \"valor_condominio\", \"valor_iptu\").show(20, False)"
      ],
      "metadata": {
        "colab": {
          "base_uri": "https://localhost:8080/"
        },
        "id": "2pMS12cp59Z3",
        "outputId": "c319eeab-15fc-42aa-e649-56af937501cf"
      },
      "execution_count": null,
      "outputs": [
        {
          "output_type": "stream",
          "name": "stdout",
          "text": [
            "+--------------+----------------+----------+\n",
            "|cidade        |valor_condominio|valor_iptu|\n",
            "+--------------+----------------+----------+\n",
            "|São Paulo     |2254            |1735      |\n",
            "|Rio de Janeiro|2450            |593       |\n",
            "|São Paulo     |3700            |1584      |\n",
            "|São Paulo     |4000            |2000      |\n",
            "|São Paulo     |4052            |1261      |\n",
            "|São Paulo     |2050            |998       |\n",
            "|São Paulo     |7400            |3368      |\n",
            "|São Paulo     |3366            |1800      |\n",
            "|Rio de Janeiro|2661            |682       |\n",
            "|São Paulo     |2300            |584       |\n",
            "|São Paulo     |2100            |634       |\n",
            "|São Paulo     |2200            |1500      |\n",
            "|São Paulo     |2021            |996       |\n",
            "|São Paulo     |2300            |502       |\n",
            "|São Paulo     |4800            |1750      |\n",
            "|São Paulo     |3000            |830       |\n",
            "|São Paulo     |2500            |834       |\n",
            "|São Paulo     |3500            |1250      |\n",
            "|São Paulo     |2270            |1110      |\n",
            "|São Paulo     |2500            |1250      |\n",
            "+--------------+----------------+----------+\n",
            "only showing top 20 rows\n",
            "\n"
          ]
        }
      ]
    },
    {
      "cell_type": "code",
      "source": [
        "#IMPORTANDO A FUNÇÃO MAX DO PYSPARK SQL\n",
        "from pyspark.sql.functions import max"
      ],
      "metadata": {
        "id": "15FDgsw271pP"
      },
      "execution_count": null,
      "outputs": []
    },
    {
      "cell_type": "code",
      "source": [
        "# Pegando o valor do aluguel mais caro\n",
        "maxValue = aluguel_filtered.agg(max(\"valor_aluguel\")).collect()[0][0]\n",
        "aluguel.select(\"cidade\",\"valor_aluguel\").filter(aluguel.valor_aluguel == maxValue).show(20, False)"
      ],
      "metadata": {
        "colab": {
          "base_uri": "https://localhost:8080/"
        },
        "id": "B0558a5G753s",
        "outputId": "a81ffc0a-93ed-4820-9e6d-7709352a9dde"
      },
      "execution_count": null,
      "outputs": [
        {
          "output_type": "stream",
          "name": "stdout",
          "text": [
            "+---------+-------------+\n",
            "|cidade   |valor_aluguel|\n",
            "+---------+-------------+\n",
            "|São Paulo|20000        |\n",
            "|São Paulo|20000        |\n",
            "|São Paulo|20000        |\n",
            "|São Paulo|20000        |\n",
            "+---------+-------------+\n",
            "\n"
          ]
        }
      ]
    },
    {
      "cell_type": "code",
      "source": [
        "# Pegando o valor do iptu mais caro\n",
        "maxValue = aluguel_filtered.agg(max(\"valor_iptu\")).collect()[0][0]\n",
        "aluguel.select(\"cidade\",\"valor_iptu\").filter(aluguel.valor_iptu == maxValue).show(20, False)"
      ],
      "metadata": {
        "colab": {
          "base_uri": "https://localhost:8080/"
        },
        "id": "a43K_g4U8uZY",
        "outputId": "3b538325-2ec8-4ab3-99f2-fd0096133c00"
      },
      "execution_count": null,
      "outputs": [
        {
          "output_type": "stream",
          "name": "stdout",
          "text": [
            "+--------------+----------+\n",
            "|cidade        |valor_iptu|\n",
            "+--------------+----------+\n",
            "|Belo Horizonte|12500     |\n",
            "+--------------+----------+\n",
            "\n"
          ]
        }
      ]
    },
    {
      "cell_type": "code",
      "source": [
        "#registrando o dataframe como view global\n",
        "aluguel.createGlobalTempView(\"aluguel15\")\n",
        "\n",
        "#a visao temporária global está vinculada a um banco de dados pelo sistema 'global_temp'\n",
        "spark.sql(\"SELECT * FROM global_temp.aluguel LIMIT 10\").show()"
      ],
      "metadata": {
        "colab": {
          "base_uri": "https://localhost:8080/"
        },
        "id": "upZVKRuv_k4A",
        "outputId": "444df0c8-e415-45c3-c232-77e2a270798d"
      },
      "execution_count": null,
      "outputs": [
        {
          "output_type": "stream",
          "name": "stdout",
          "text": [
            "+--------------+----+-------+---------+-------------+-----+-------------+----------+----------------+-------------+----------+------------+-----------+\n",
            "|        cidade|area|quartos|banheiros|vagas_garagem|andar|aceita_animal|mobiliaria|valor_condominio|valor_aluguel|valor_iptu|valor_seguro|valor_total|\n",
            "+--------------+----+-------+---------+-------------+-----+-------------+----------+----------------+-------------+----------+------------+-----------+\n",
            "|     São Paulo|  70|      2|        1|            1|    7|            1|         1|            2065|         3300|       211|          42|       5618|\n",
            "|     São Paulo| 320|      4|        4|            0|   20|            1|         0|            1200|         4960|      1750|          63|       7973|\n",
            "|  Porto Alegre|  80|      1|        1|            1|    6|            1|         0|            1000|         2800|         0|          41|       3841|\n",
            "|  Porto Alegre|  51|      2|        1|            0|    2|            1|         0|             270|         1112|        22|          17|       1421|\n",
            "|     São Paulo|  25|      1|        1|            0|    1|            0|         0|               0|          800|        25|          11|        836|\n",
            "|     São Paulo| 376|      3|        3|            7|    0|            1|         0|               0|         8000|       834|         121|       8955|\n",
            "|Rio de Janeiro|  72|      2|        1|            0|    7|            1|         0|             740|         1900|        85|          25|       2750|\n",
            "|     São Paulo| 213|      4|        4|            4|    4|            1|         0|            2254|         3223|      1735|          41|       7253|\n",
            "|     São Paulo| 152|      2|        2|            1|    3|            1|         1|            1000|        15000|       250|         191|      16440|\n",
            "|Rio de Janeiro|  35|      1|        1|            0|    2|            1|         1|             590|         2300|        35|          30|       2955|\n",
            "+--------------+----+-------+---------+-------------+-----+-------------+----------+----------------+-------------+----------+------------+-----------+\n",
            "\n"
          ]
        }
      ]
    },
    {
      "cell_type": "code",
      "source": [
        "#PASSANDO O PYSPARK DATAFRAME PARA O PANDAS DATAFRAME\n",
        "df = aluguel.toPandas()\n",
        "df.head(10)"
      ],
      "metadata": {
        "colab": {
          "base_uri": "https://localhost:8080/",
          "height": 305
        },
        "id": "2Iz6fEUCca9T",
        "outputId": "decd22f2-975d-4aef-f7b7-2389b8dc57c4"
      },
      "execution_count": null,
      "outputs": [
        {
          "output_type": "execute_result",
          "data": {
            "text/plain": [
              "           cidade  area  quartos  banheiros  vagas_garagem  andar  \\\n",
              "0       São Paulo    70        2          1              1      7   \n",
              "1       São Paulo   320        4          4              0     20   \n",
              "2    Porto Alegre    80        1          1              1      6   \n",
              "3    Porto Alegre    51        2          1              0      2   \n",
              "4       São Paulo    25        1          1              0      1   \n",
              "5       São Paulo   376        3          3              7      0   \n",
              "6  Rio de Janeiro    72        2          1              0      7   \n",
              "7       São Paulo   213        4          4              4      4   \n",
              "8       São Paulo   152        2          2              1      3   \n",
              "9  Rio de Janeiro    35        1          1              0      2   \n",
              "\n",
              "   aceita_animal  mobiliaria  valor_condominio  valor_aluguel  valor_iptu  \\\n",
              "0            0.2           1              2065           3300         211   \n",
              "1            0.2           0              1200           4960        1750   \n",
              "2            0.2           0              1000           2800           0   \n",
              "3            0.2           0               270           1112          22   \n",
              "4            0.0           0                 0            800          25   \n",
              "5            0.2           0                 0           8000         834   \n",
              "6            0.2           0               740           1900          85   \n",
              "7            0.2           0              2254           3223        1735   \n",
              "8            0.2           1              1000          15000         250   \n",
              "9            0.2           1               590           2300          35   \n",
              "\n",
              "   valor_seguro  valor_total  \n",
              "0            42         5618  \n",
              "1            63         7973  \n",
              "2            41         3841  \n",
              "3            17         1421  \n",
              "4            11          836  \n",
              "5           121         8955  \n",
              "6            25         2750  \n",
              "7            41         7253  \n",
              "8           191        16440  \n",
              "9            30         2955  "
            ],
            "text/html": [
              "\n",
              "  <div id=\"df-31ec8b6a-3db5-43a1-9f51-4d0da7fe2d5e\">\n",
              "    <div class=\"colab-df-container\">\n",
              "      <div>\n",
              "<style scoped>\n",
              "    .dataframe tbody tr th:only-of-type {\n",
              "        vertical-align: middle;\n",
              "    }\n",
              "\n",
              "    .dataframe tbody tr th {\n",
              "        vertical-align: top;\n",
              "    }\n",
              "\n",
              "    .dataframe thead th {\n",
              "        text-align: right;\n",
              "    }\n",
              "</style>\n",
              "<table border=\"1\" class=\"dataframe\">\n",
              "  <thead>\n",
              "    <tr style=\"text-align: right;\">\n",
              "      <th></th>\n",
              "      <th>cidade</th>\n",
              "      <th>area</th>\n",
              "      <th>quartos</th>\n",
              "      <th>banheiros</th>\n",
              "      <th>vagas_garagem</th>\n",
              "      <th>andar</th>\n",
              "      <th>aceita_animal</th>\n",
              "      <th>mobiliaria</th>\n",
              "      <th>valor_condominio</th>\n",
              "      <th>valor_aluguel</th>\n",
              "      <th>valor_iptu</th>\n",
              "      <th>valor_seguro</th>\n",
              "      <th>valor_total</th>\n",
              "    </tr>\n",
              "  </thead>\n",
              "  <tbody>\n",
              "    <tr>\n",
              "      <th>0</th>\n",
              "      <td>São Paulo</td>\n",
              "      <td>70</td>\n",
              "      <td>2</td>\n",
              "      <td>1</td>\n",
              "      <td>1</td>\n",
              "      <td>7</td>\n",
              "      <td>0.2</td>\n",
              "      <td>1</td>\n",
              "      <td>2065</td>\n",
              "      <td>3300</td>\n",
              "      <td>211</td>\n",
              "      <td>42</td>\n",
              "      <td>5618</td>\n",
              "    </tr>\n",
              "    <tr>\n",
              "      <th>1</th>\n",
              "      <td>São Paulo</td>\n",
              "      <td>320</td>\n",
              "      <td>4</td>\n",
              "      <td>4</td>\n",
              "      <td>0</td>\n",
              "      <td>20</td>\n",
              "      <td>0.2</td>\n",
              "      <td>0</td>\n",
              "      <td>1200</td>\n",
              "      <td>4960</td>\n",
              "      <td>1750</td>\n",
              "      <td>63</td>\n",
              "      <td>7973</td>\n",
              "    </tr>\n",
              "    <tr>\n",
              "      <th>2</th>\n",
              "      <td>Porto Alegre</td>\n",
              "      <td>80</td>\n",
              "      <td>1</td>\n",
              "      <td>1</td>\n",
              "      <td>1</td>\n",
              "      <td>6</td>\n",
              "      <td>0.2</td>\n",
              "      <td>0</td>\n",
              "      <td>1000</td>\n",
              "      <td>2800</td>\n",
              "      <td>0</td>\n",
              "      <td>41</td>\n",
              "      <td>3841</td>\n",
              "    </tr>\n",
              "    <tr>\n",
              "      <th>3</th>\n",
              "      <td>Porto Alegre</td>\n",
              "      <td>51</td>\n",
              "      <td>2</td>\n",
              "      <td>1</td>\n",
              "      <td>0</td>\n",
              "      <td>2</td>\n",
              "      <td>0.2</td>\n",
              "      <td>0</td>\n",
              "      <td>270</td>\n",
              "      <td>1112</td>\n",
              "      <td>22</td>\n",
              "      <td>17</td>\n",
              "      <td>1421</td>\n",
              "    </tr>\n",
              "    <tr>\n",
              "      <th>4</th>\n",
              "      <td>São Paulo</td>\n",
              "      <td>25</td>\n",
              "      <td>1</td>\n",
              "      <td>1</td>\n",
              "      <td>0</td>\n",
              "      <td>1</td>\n",
              "      <td>0.0</td>\n",
              "      <td>0</td>\n",
              "      <td>0</td>\n",
              "      <td>800</td>\n",
              "      <td>25</td>\n",
              "      <td>11</td>\n",
              "      <td>836</td>\n",
              "    </tr>\n",
              "    <tr>\n",
              "      <th>5</th>\n",
              "      <td>São Paulo</td>\n",
              "      <td>376</td>\n",
              "      <td>3</td>\n",
              "      <td>3</td>\n",
              "      <td>7</td>\n",
              "      <td>0</td>\n",
              "      <td>0.2</td>\n",
              "      <td>0</td>\n",
              "      <td>0</td>\n",
              "      <td>8000</td>\n",
              "      <td>834</td>\n",
              "      <td>121</td>\n",
              "      <td>8955</td>\n",
              "    </tr>\n",
              "    <tr>\n",
              "      <th>6</th>\n",
              "      <td>Rio de Janeiro</td>\n",
              "      <td>72</td>\n",
              "      <td>2</td>\n",
              "      <td>1</td>\n",
              "      <td>0</td>\n",
              "      <td>7</td>\n",
              "      <td>0.2</td>\n",
              "      <td>0</td>\n",
              "      <td>740</td>\n",
              "      <td>1900</td>\n",
              "      <td>85</td>\n",
              "      <td>25</td>\n",
              "      <td>2750</td>\n",
              "    </tr>\n",
              "    <tr>\n",
              "      <th>7</th>\n",
              "      <td>São Paulo</td>\n",
              "      <td>213</td>\n",
              "      <td>4</td>\n",
              "      <td>4</td>\n",
              "      <td>4</td>\n",
              "      <td>4</td>\n",
              "      <td>0.2</td>\n",
              "      <td>0</td>\n",
              "      <td>2254</td>\n",
              "      <td>3223</td>\n",
              "      <td>1735</td>\n",
              "      <td>41</td>\n",
              "      <td>7253</td>\n",
              "    </tr>\n",
              "    <tr>\n",
              "      <th>8</th>\n",
              "      <td>São Paulo</td>\n",
              "      <td>152</td>\n",
              "      <td>2</td>\n",
              "      <td>2</td>\n",
              "      <td>1</td>\n",
              "      <td>3</td>\n",
              "      <td>0.2</td>\n",
              "      <td>1</td>\n",
              "      <td>1000</td>\n",
              "      <td>15000</td>\n",
              "      <td>250</td>\n",
              "      <td>191</td>\n",
              "      <td>16440</td>\n",
              "    </tr>\n",
              "    <tr>\n",
              "      <th>9</th>\n",
              "      <td>Rio de Janeiro</td>\n",
              "      <td>35</td>\n",
              "      <td>1</td>\n",
              "      <td>1</td>\n",
              "      <td>0</td>\n",
              "      <td>2</td>\n",
              "      <td>0.2</td>\n",
              "      <td>1</td>\n",
              "      <td>590</td>\n",
              "      <td>2300</td>\n",
              "      <td>35</td>\n",
              "      <td>30</td>\n",
              "      <td>2955</td>\n",
              "    </tr>\n",
              "  </tbody>\n",
              "</table>\n",
              "</div>\n",
              "      <button class=\"colab-df-convert\" onclick=\"convertToInteractive('df-31ec8b6a-3db5-43a1-9f51-4d0da7fe2d5e')\"\n",
              "              title=\"Convert this dataframe to an interactive table.\"\n",
              "              style=\"display:none;\">\n",
              "        \n",
              "  <svg xmlns=\"http://www.w3.org/2000/svg\" height=\"24px\"viewBox=\"0 0 24 24\"\n",
              "       width=\"24px\">\n",
              "    <path d=\"M0 0h24v24H0V0z\" fill=\"none\"/>\n",
              "    <path d=\"M18.56 5.44l.94 2.06.94-2.06 2.06-.94-2.06-.94-.94-2.06-.94 2.06-2.06.94zm-11 1L8.5 8.5l.94-2.06 2.06-.94-2.06-.94L8.5 2.5l-.94 2.06-2.06.94zm10 10l.94 2.06.94-2.06 2.06-.94-2.06-.94-.94-2.06-.94 2.06-2.06.94z\"/><path d=\"M17.41 7.96l-1.37-1.37c-.4-.4-.92-.59-1.43-.59-.52 0-1.04.2-1.43.59L10.3 9.45l-7.72 7.72c-.78.78-.78 2.05 0 2.83L4 21.41c.39.39.9.59 1.41.59.51 0 1.02-.2 1.41-.59l7.78-7.78 2.81-2.81c.8-.78.8-2.07 0-2.86zM5.41 20L4 18.59l7.72-7.72 1.47 1.35L5.41 20z\"/>\n",
              "  </svg>\n",
              "      </button>\n",
              "      \n",
              "  <style>\n",
              "    .colab-df-container {\n",
              "      display:flex;\n",
              "      flex-wrap:wrap;\n",
              "      gap: 12px;\n",
              "    }\n",
              "\n",
              "    .colab-df-convert {\n",
              "      background-color: #E8F0FE;\n",
              "      border: none;\n",
              "      border-radius: 50%;\n",
              "      cursor: pointer;\n",
              "      display: none;\n",
              "      fill: #1967D2;\n",
              "      height: 32px;\n",
              "      padding: 0 0 0 0;\n",
              "      width: 32px;\n",
              "    }\n",
              "\n",
              "    .colab-df-convert:hover {\n",
              "      background-color: #E2EBFA;\n",
              "      box-shadow: 0px 1px 2px rgba(60, 64, 67, 0.3), 0px 1px 3px 1px rgba(60, 64, 67, 0.15);\n",
              "      fill: #174EA6;\n",
              "    }\n",
              "\n",
              "    [theme=dark] .colab-df-convert {\n",
              "      background-color: #3B4455;\n",
              "      fill: #D2E3FC;\n",
              "    }\n",
              "\n",
              "    [theme=dark] .colab-df-convert:hover {\n",
              "      background-color: #434B5C;\n",
              "      box-shadow: 0px 1px 3px 1px rgba(0, 0, 0, 0.15);\n",
              "      filter: drop-shadow(0px 1px 2px rgba(0, 0, 0, 0.3));\n",
              "      fill: #FFFFFF;\n",
              "    }\n",
              "  </style>\n",
              "\n",
              "      <script>\n",
              "        const buttonEl =\n",
              "          document.querySelector('#df-31ec8b6a-3db5-43a1-9f51-4d0da7fe2d5e button.colab-df-convert');\n",
              "        buttonEl.style.display =\n",
              "          google.colab.kernel.accessAllowed ? 'block' : 'none';\n",
              "\n",
              "        async function convertToInteractive(key) {\n",
              "          const element = document.querySelector('#df-31ec8b6a-3db5-43a1-9f51-4d0da7fe2d5e');\n",
              "          const dataTable =\n",
              "            await google.colab.kernel.invokeFunction('convertToInteractive',\n",
              "                                                     [key], {});\n",
              "          if (!dataTable) return;\n",
              "\n",
              "          const docLinkHtml = 'Like what you see? Visit the ' +\n",
              "            '<a target=\"_blank\" href=https://colab.research.google.com/notebooks/data_table.ipynb>data table notebook</a>'\n",
              "            + ' to learn more about interactive tables.';\n",
              "          element.innerHTML = '';\n",
              "          dataTable['output_type'] = 'display_data';\n",
              "          await google.colab.output.renderOutput(dataTable, element);\n",
              "          const docLink = document.createElement('div');\n",
              "          docLink.innerHTML = docLinkHtml;\n",
              "          element.appendChild(docLink);\n",
              "        }\n",
              "      </script>\n",
              "    </div>\n",
              "  </div>\n",
              "  "
            ],
            "application/vnd.google.colaboratory.module+javascript": "\n      import \"https://ssl.gstatic.com/colaboratory/data_table/a8bd4d5e58f96183/data_table.js\";\n\n      window.createDataTable({\n        data: [[{\n            'v': 0,\n            'f': \"0\",\n        },\n\"S\\u00e3o Paulo\",\n{\n            'v': 70,\n            'f': \"70\",\n        },\n{\n            'v': 2,\n            'f': \"2\",\n        },\n{\n            'v': 1,\n            'f': \"1\",\n        },\n{\n            'v': 1,\n            'f': \"1\",\n        },\n{\n            'v': 7,\n            'f': \"7\",\n        },\n{\n            'v': 0.2,\n            'f': \"0.2\",\n        },\n{\n            'v': 1,\n            'f': \"1\",\n        },\n{\n            'v': 2065,\n            'f': \"2065\",\n        },\n{\n            'v': 3300,\n            'f': \"3300\",\n        },\n{\n            'v': 211,\n            'f': \"211\",\n        },\n{\n            'v': 42,\n            'f': \"42\",\n        },\n{\n            'v': 5618,\n            'f': \"5618\",\n        }],\n [{\n            'v': 1,\n            'f': \"1\",\n        },\n\"S\\u00e3o Paulo\",\n{\n            'v': 320,\n            'f': \"320\",\n        },\n{\n            'v': 4,\n            'f': \"4\",\n        },\n{\n            'v': 4,\n            'f': \"4\",\n        },\n{\n            'v': 0,\n            'f': \"0\",\n        },\n{\n            'v': 20,\n            'f': \"20\",\n        },\n{\n            'v': 0.2,\n            'f': \"0.2\",\n        },\n{\n            'v': 0,\n            'f': \"0\",\n        },\n{\n            'v': 1200,\n            'f': \"1200\",\n        },\n{\n            'v': 4960,\n            'f': \"4960\",\n        },\n{\n            'v': 1750,\n            'f': \"1750\",\n        },\n{\n            'v': 63,\n            'f': \"63\",\n        },\n{\n            'v': 7973,\n            'f': \"7973\",\n        }],\n [{\n            'v': 2,\n            'f': \"2\",\n        },\n\"Porto Alegre\",\n{\n            'v': 80,\n            'f': \"80\",\n        },\n{\n            'v': 1,\n            'f': \"1\",\n        },\n{\n            'v': 1,\n            'f': \"1\",\n        },\n{\n            'v': 1,\n            'f': \"1\",\n        },\n{\n            'v': 6,\n            'f': \"6\",\n        },\n{\n            'v': 0.2,\n            'f': \"0.2\",\n        },\n{\n            'v': 0,\n            'f': \"0\",\n        },\n{\n            'v': 1000,\n            'f': \"1000\",\n        },\n{\n            'v': 2800,\n            'f': \"2800\",\n        },\n{\n            'v': 0,\n            'f': \"0\",\n        },\n{\n            'v': 41,\n            'f': \"41\",\n        },\n{\n            'v': 3841,\n            'f': \"3841\",\n        }],\n [{\n            'v': 3,\n            'f': \"3\",\n        },\n\"Porto Alegre\",\n{\n            'v': 51,\n            'f': \"51\",\n        },\n{\n            'v': 2,\n            'f': \"2\",\n        },\n{\n            'v': 1,\n            'f': \"1\",\n        },\n{\n            'v': 0,\n            'f': \"0\",\n        },\n{\n            'v': 2,\n            'f': \"2\",\n        },\n{\n            'v': 0.2,\n            'f': \"0.2\",\n        },\n{\n            'v': 0,\n            'f': \"0\",\n        },\n{\n            'v': 270,\n            'f': \"270\",\n        },\n{\n            'v': 1112,\n            'f': \"1112\",\n        },\n{\n            'v': 22,\n            'f': \"22\",\n        },\n{\n            'v': 17,\n            'f': \"17\",\n        },\n{\n            'v': 1421,\n            'f': \"1421\",\n        }],\n [{\n            'v': 4,\n            'f': \"4\",\n        },\n\"S\\u00e3o Paulo\",\n{\n            'v': 25,\n            'f': \"25\",\n        },\n{\n            'v': 1,\n            'f': \"1\",\n        },\n{\n            'v': 1,\n            'f': \"1\",\n        },\n{\n            'v': 0,\n            'f': \"0\",\n        },\n{\n            'v': 1,\n            'f': \"1\",\n        },\n{\n            'v': 0.0,\n            'f': \"0.0\",\n        },\n{\n            'v': 0,\n            'f': \"0\",\n        },\n{\n            'v': 0,\n            'f': \"0\",\n        },\n{\n            'v': 800,\n            'f': \"800\",\n        },\n{\n            'v': 25,\n            'f': \"25\",\n        },\n{\n            'v': 11,\n            'f': \"11\",\n        },\n{\n            'v': 836,\n            'f': \"836\",\n        }],\n [{\n            'v': 5,\n            'f': \"5\",\n        },\n\"S\\u00e3o Paulo\",\n{\n            'v': 376,\n            'f': \"376\",\n        },\n{\n            'v': 3,\n            'f': \"3\",\n        },\n{\n            'v': 3,\n            'f': \"3\",\n        },\n{\n            'v': 7,\n            'f': \"7\",\n        },\n{\n            'v': 0,\n            'f': \"0\",\n        },\n{\n            'v': 0.2,\n            'f': \"0.2\",\n        },\n{\n            'v': 0,\n            'f': \"0\",\n        },\n{\n            'v': 0,\n            'f': \"0\",\n        },\n{\n            'v': 8000,\n            'f': \"8000\",\n        },\n{\n            'v': 834,\n            'f': \"834\",\n        },\n{\n            'v': 121,\n            'f': \"121\",\n        },\n{\n            'v': 8955,\n            'f': \"8955\",\n        }],\n [{\n            'v': 6,\n            'f': \"6\",\n        },\n\"Rio de Janeiro\",\n{\n            'v': 72,\n            'f': \"72\",\n        },\n{\n            'v': 2,\n            'f': \"2\",\n        },\n{\n            'v': 1,\n            'f': \"1\",\n        },\n{\n            'v': 0,\n            'f': \"0\",\n        },\n{\n            'v': 7,\n            'f': \"7\",\n        },\n{\n            'v': 0.2,\n            'f': \"0.2\",\n        },\n{\n            'v': 0,\n            'f': \"0\",\n        },\n{\n            'v': 740,\n            'f': \"740\",\n        },\n{\n            'v': 1900,\n            'f': \"1900\",\n        },\n{\n            'v': 85,\n            'f': \"85\",\n        },\n{\n            'v': 25,\n            'f': \"25\",\n        },\n{\n            'v': 2750,\n            'f': \"2750\",\n        }],\n [{\n            'v': 7,\n            'f': \"7\",\n        },\n\"S\\u00e3o Paulo\",\n{\n            'v': 213,\n            'f': \"213\",\n        },\n{\n            'v': 4,\n            'f': \"4\",\n        },\n{\n            'v': 4,\n            'f': \"4\",\n        },\n{\n            'v': 4,\n            'f': \"4\",\n        },\n{\n            'v': 4,\n            'f': \"4\",\n        },\n{\n            'v': 0.2,\n            'f': \"0.2\",\n        },\n{\n            'v': 0,\n            'f': \"0\",\n        },\n{\n            'v': 2254,\n            'f': \"2254\",\n        },\n{\n            'v': 3223,\n            'f': \"3223\",\n        },\n{\n            'v': 1735,\n            'f': \"1735\",\n        },\n{\n            'v': 41,\n            'f': \"41\",\n        },\n{\n            'v': 7253,\n            'f': \"7253\",\n        }],\n [{\n            'v': 8,\n            'f': \"8\",\n        },\n\"S\\u00e3o Paulo\",\n{\n            'v': 152,\n            'f': \"152\",\n        },\n{\n            'v': 2,\n            'f': \"2\",\n        },\n{\n            'v': 2,\n            'f': \"2\",\n        },\n{\n            'v': 1,\n            'f': \"1\",\n        },\n{\n            'v': 3,\n            'f': \"3\",\n        },\n{\n            'v': 0.2,\n            'f': \"0.2\",\n        },\n{\n            'v': 1,\n            'f': \"1\",\n        },\n{\n            'v': 1000,\n            'f': \"1000\",\n        },\n{\n            'v': 15000,\n            'f': \"15000\",\n        },\n{\n            'v': 250,\n            'f': \"250\",\n        },\n{\n            'v': 191,\n            'f': \"191\",\n        },\n{\n            'v': 16440,\n            'f': \"16440\",\n        }],\n [{\n            'v': 9,\n            'f': \"9\",\n        },\n\"Rio de Janeiro\",\n{\n            'v': 35,\n            'f': \"35\",\n        },\n{\n            'v': 1,\n            'f': \"1\",\n        },\n{\n            'v': 1,\n            'f': \"1\",\n        },\n{\n            'v': 0,\n            'f': \"0\",\n        },\n{\n            'v': 2,\n            'f': \"2\",\n        },\n{\n            'v': 0.2,\n            'f': \"0.2\",\n        },\n{\n            'v': 1,\n            'f': \"1\",\n        },\n{\n            'v': 590,\n            'f': \"590\",\n        },\n{\n            'v': 2300,\n            'f': \"2300\",\n        },\n{\n            'v': 35,\n            'f': \"35\",\n        },\n{\n            'v': 30,\n            'f': \"30\",\n        },\n{\n            'v': 2955,\n            'f': \"2955\",\n        }]],\n        columns: [[\"number\", \"index\"], [\"string\", \"cidade\"], [\"number\", \"area\"], [\"number\", \"quartos\"], [\"number\", \"banheiros\"], [\"number\", \"vagas_garagem\"], [\"number\", \"andar\"], [\"number\", \"aceita_animal\"], [\"number\", \"mobiliaria\"], [\"number\", \"valor_condominio\"], [\"number\", \"valor_aluguel\"], [\"number\", \"valor_iptu\"], [\"number\", \"valor_seguro\"], [\"number\", \"valor_total\"]],\n        columnOptions: [{\"width\": \"1px\", \"className\": \"index_column\"}],\n        rowsPerPage: 25,\n        helpUrl: \"https://colab.research.google.com/notebooks/data_table.ipynb\",\n        suppressOutputScrolling: true,\n        minimumWidth: undefined,\n      });\n    "
          },
          "metadata": {},
          "execution_count": 338
        }
      ]
    },
    {
      "cell_type": "code",
      "source": [
        "#OLHANDO O VALORES DO SEGURO\n",
        "df[\"valor_seguro\"].plot.hist()"
      ],
      "metadata": {
        "colab": {
          "base_uri": "https://localhost:8080/",
          "height": 285
        },
        "id": "wF7AWTtDPlPM",
        "outputId": "a45a01e9-b761-46c2-ddf9-f613ffcdc35d"
      },
      "execution_count": null,
      "outputs": [
        {
          "output_type": "execute_result",
          "data": {
            "text/plain": [
              "<matplotlib.axes._subplots.AxesSubplot at 0x7f82a172c390>"
            ]
          },
          "metadata": {},
          "execution_count": 339
        },
        {
          "output_type": "display_data",
          "data": {
            "text/plain": [
              "<Figure size 432x288 with 1 Axes>"
            ],
            "image/png": "[encoded data removed]"
          },
          "metadata": {}
        }
      ]
    },
    {
      "cell_type": "code",
      "source": [
        "#VENDO O MAIOR VALOR DE ALUGUEL\n",
        "plt.style.use(\"ggplot\")\n",
        "plt.figure(figsize = (20, 12))\n",
        "df[\"valor_aluguel\"].hist(bins = 40, ec = \"k\", alpha = .6, color = \"royalblue\")\n",
        "plt.title(\"Valor Aluguel\")\n",
        "plt.xlabel(\"Valor\")\n",
        "plt.ylabel(\"Cidades\")"
      ],
      "metadata": {
        "colab": {
          "base_uri": "https://localhost:8080/",
          "height": 751
        },
        "id": "yg3derGcL1vE",
        "outputId": "08e0a2a4-3b8f-4f1f-93df-a6f6f23d9849"
      },
      "execution_count": null,
      "outputs": [
        {
          "output_type": "execute_result",
          "data": {
            "text/plain": [
              "Text(0, 0.5, 'Cidades')"
            ]
          },
          "metadata": {},
          "execution_count": 305
        },
        {
          "output_type": "display_data",
          "data": {
            "text/plain": [
              "<Figure size 1440x864 with 1 Axes>"
            ],
            "image/png": "[encoded data removed]"
          },
          "metadata": {}
        }
      ]
    },
    {
      "cell_type": "code",
      "source": [
        "#OLHANDO AS CIDADES QUE TEM MAIS ALUGUEIS.\n",
        "count = df[\"cidade\"].value_counts().values\n",
        "anos = df[\"cidade\"].value_counts().index\n",
        "plt.figure(figsize = (24, 8))\n",
        "plt.subplot(1, 2, 1)\n",
        "plt.bar(anos, count, ec = \"k\", alpha = .6, color = \"royalblue\")\n",
        "plt.xlabel(\"Cidades\")\n",
        "plt.title(\"Cidade que tem mais alugueis\")"
      ],
      "metadata": {
        "colab": {
          "base_uri": "https://localhost:8080/",
          "height": 534
        },
        "id": "4X1dEYiaH8fa",
        "outputId": "ae996826-8c2b-4aff-f640-8fe6099f8e02"
      },
      "execution_count": null,
      "outputs": [
        {
          "output_type": "execute_result",
          "data": {
            "text/plain": [
              "Text(0.5, 1.0, 'Cidade que tem mais alugueis')"
            ]
          },
          "metadata": {},
          "execution_count": 303
        },
        {
          "output_type": "display_data",
          "data": {
            "text/plain": [
              "<Figure size 1728x576 with 1 Axes>"
            ],
            "image/png": "[encoded data removed]"
          },
          "metadata": {
            "needs_background": "light"
          }
        }
      ]
    },
    {
      "cell_type": "code",
      "source": [
        "#olhando a quantidade de andares.\n",
        "count = df[\"andar\"].value_counts().values\n",
        "anos = df[\"andar\"].value_counts().index\n",
        "plt.figure(figsize = (24, 8))\n",
        "plt.subplot(1, 2, 1)\n",
        "plt.bar(anos, count, ec = \"k\", alpha = .6, color = \"royalblue\")\n",
        "plt.xlabel(\"Andar\")\n",
        "plt.title(\"Quantidade de Andar\")"
      ],
      "metadata": {
        "colab": {
          "base_uri": "https://localhost:8080/",
          "height": 534
        },
        "id": "J3Sd2nmlQPMu",
        "outputId": "c4033ecd-0b8d-49df-d00c-21e5566210f1"
      },
      "execution_count": null,
      "outputs": [
        {
          "output_type": "execute_result",
          "data": {
            "text/plain": [
              "Text(0.5, 1.0, 'Quantidade de Andar')"
            ]
          },
          "metadata": {},
          "execution_count": 343
        },
        {
          "output_type": "display_data",
          "data": {
            "text/plain": [
              "<Figure size 1728x576 with 1 Axes>"
            ],
            "image/png": "[encoded data removed]"
          },
          "metadata": {}
        }
      ]
    }
  ]
}